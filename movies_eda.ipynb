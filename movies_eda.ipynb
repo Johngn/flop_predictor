{
 "cells": [
  {
   "cell_type": "code",
   "execution_count": 231,
   "metadata": {},
   "outputs": [
    {
     "data": {
      "text/plain": [
       "(12993, 25)"
      ]
     },
     "execution_count": 231,
     "metadata": {},
     "output_type": "execute_result"
    }
   ],
   "source": [
    "import pandas as pd\n",
    "import numpy as np\n",
    "import matplotlib.pyplot as plt\n",
    "import seaborn as sns\n",
    "\n",
    "df = pd.read_csv('./data/IMDbmovies.csv')\n",
    "\n",
    "# separate currency and amount into two new columns\n",
    "df[['budget_currency','budget']] = df.budget.str.split(expand=True)\n",
    "df[['box_office_currency','box_office']] = df.worlwide_gross_income.str.split(expand=True)\n",
    "# convert amount string to numeric\n",
    "df.budget = pd.to_numeric(df['budget'])\n",
    "df.box_office = pd.to_numeric(df['box_office'])\n",
    "\n",
    "df = df[df.budget_currency == \"$\"]\n",
    "\n",
    "df = df[df.year > 1980]\n",
    "\n",
    "df.shape"
   ]
  },
  {
   "cell_type": "code",
   "execution_count": 183,
   "metadata": {},
   "outputs": [
    {
     "data": {
      "text/plain": [
       "Index(['imdb_title_id', 'title', 'original_title', 'year', 'date_published',\n",
       "       'genre', 'duration', 'country', 'language', 'director', 'writer',\n",
       "       'production_company', 'actors', 'description', 'avg_vote', 'votes',\n",
       "       'budget', 'usa_gross_income', 'worlwide_gross_income', 'metascore',\n",
       "       'reviews_from_users', 'reviews_from_critics', 'budget_currency',\n",
       "       'box_office_currency', 'box_office'],\n",
       "      dtype='object')"
      ]
     },
     "execution_count": 183,
     "metadata": {},
     "output_type": "execute_result"
    }
   ],
   "source": [
    "df.columns"
   ]
  },
  {
   "cell_type": "code",
   "execution_count": 232,
   "metadata": {},
   "outputs": [],
   "source": [
    "df = df.drop(['imdb_title_id', 'title', 'original_title', 'date_published',\n",
    "       'country', 'language', 'writer',\n",
    "       'production_company', 'description', 'votes',\n",
    "       'usa_gross_income', 'worlwide_gross_income',\n",
    "       'reviews_from_users', 'reviews_from_critics', 'budget_currency','actors',\n",
    "       'box_office_currency'], axis='columns')"
   ]
  },
  {
   "cell_type": "code",
   "execution_count": 234,
   "metadata": {
    "scrolled": true
   },
   "outputs": [
    {
     "data": {
      "text/html": [
       "<div>\n",
       "<style scoped>\n",
       "    .dataframe tbody tr th:only-of-type {\n",
       "        vertical-align: middle;\n",
       "    }\n",
       "\n",
       "    .dataframe tbody tr th {\n",
       "        vertical-align: top;\n",
       "    }\n",
       "\n",
       "    .dataframe thead th {\n",
       "        text-align: right;\n",
       "    }\n",
       "</style>\n",
       "<table border=\"1\" class=\"dataframe\">\n",
       "  <thead>\n",
       "    <tr style=\"text-align: right;\">\n",
       "      <th></th>\n",
       "      <th>year</th>\n",
       "      <th>genre</th>\n",
       "      <th>duration</th>\n",
       "      <th>director</th>\n",
       "      <th>avg_vote</th>\n",
       "      <th>budget</th>\n",
       "      <th>metascore</th>\n",
       "      <th>box_office</th>\n",
       "    </tr>\n",
       "  </thead>\n",
       "  <tbody>\n",
       "    <tr>\n",
       "      <th>4115</th>\n",
       "      <td>2001</td>\n",
       "      <td>Comedy, Fantasy, Romance</td>\n",
       "      <td>118</td>\n",
       "      <td>James Mangold</td>\n",
       "      <td>6.4</td>\n",
       "      <td>48000000.0</td>\n",
       "      <td>44.0</td>\n",
       "      <td>76019048.0</td>\n",
       "    </tr>\n",
       "    <tr>\n",
       "      <th>16550</th>\n",
       "      <td>1982</td>\n",
       "      <td>Comedy, Crime, Drama</td>\n",
       "      <td>100</td>\n",
       "      <td>William Byron Hillman</td>\n",
       "      <td>4.9</td>\n",
       "      <td>1000000.0</td>\n",
       "      <td>NaN</td>\n",
       "      <td>NaN</td>\n",
       "    </tr>\n",
       "    <tr>\n",
       "      <th>18767</th>\n",
       "      <td>1982</td>\n",
       "      <td>Horror, Thriller</td>\n",
       "      <td>96</td>\n",
       "      <td>Peter F. Buffa</td>\n",
       "      <td>4.6</td>\n",
       "      <td>1000000.0</td>\n",
       "      <td>NaN</td>\n",
       "      <td>NaN</td>\n",
       "    </tr>\n",
       "    <tr>\n",
       "      <th>19026</th>\n",
       "      <td>1981</td>\n",
       "      <td>Adventure, Comedy, Fantasy</td>\n",
       "      <td>116</td>\n",
       "      <td>Terry Gilliam</td>\n",
       "      <td>7.0</td>\n",
       "      <td>5000000.0</td>\n",
       "      <td>79.0</td>\n",
       "      <td>42368025.0</td>\n",
       "    </tr>\n",
       "    <tr>\n",
       "      <th>19036</th>\n",
       "      <td>1981</td>\n",
       "      <td>Drama</td>\n",
       "      <td>90</td>\n",
       "      <td>Frederick King Keller</td>\n",
       "      <td>6.5</td>\n",
       "      <td>60000.0</td>\n",
       "      <td>NaN</td>\n",
       "      <td>NaN</td>\n",
       "    </tr>\n",
       "  </tbody>\n",
       "</table>\n",
       "</div>"
      ],
      "text/plain": [
       "       year                       genre  duration               director  \\\n",
       "4115   2001    Comedy, Fantasy, Romance       118          James Mangold   \n",
       "16550  1982        Comedy, Crime, Drama       100  William Byron Hillman   \n",
       "18767  1982            Horror, Thriller        96         Peter F. Buffa   \n",
       "19026  1981  Adventure, Comedy, Fantasy       116          Terry Gilliam   \n",
       "19036  1981                       Drama        90  Frederick King Keller   \n",
       "\n",
       "       avg_vote      budget  metascore  box_office  \n",
       "4115        6.4  48000000.0       44.0  76019048.0  \n",
       "16550       4.9   1000000.0        NaN         NaN  \n",
       "18767       4.6   1000000.0        NaN         NaN  \n",
       "19026       7.0   5000000.0       79.0  42368025.0  \n",
       "19036       6.5     60000.0        NaN         NaN  "
      ]
     },
     "execution_count": 234,
     "metadata": {},
     "output_type": "execute_result"
    }
   ],
   "source": [
    "df.head()"
   ]
  },
  {
   "cell_type": "markdown",
   "metadata": {},
   "source": [
    "We have full data for duration, avg_vote, budget, actors and director. For box_office we have data for about two thirds of our films. We should drop those as without box office figures as that is the point of this project. We only have metascore for about half of the films. Lets check how it correlates with user scores as found in avg_vote."
   ]
  },
  {
   "cell_type": "code",
   "execution_count": 236,
   "metadata": {},
   "outputs": [
    {
     "data": {
      "text/plain": [
       "<matplotlib.axes._subplots.AxesSubplot at 0x7f7dad7f2a90>"
      ]
     },
     "execution_count": 236,
     "metadata": {},
     "output_type": "execute_result"
    },
    {
     "data": {
      "image/png": "[encoded data removed]",
      "text/plain": [
       "<Figure size 720x576 with 1 Axes>"
      ]
     },
     "metadata": {
      "needs_background": "light"
     },
     "output_type": "display_data"
    }
   ],
   "source": [
    "fig, ax = plt.subplots(figsize=(10,8))\n",
    "sns.scatterplot(x=df.avg_vote, y=df.metascore)"
   ]
  },
  {
   "cell_type": "markdown",
   "metadata": {},
   "source": [
    "They look correlated but lets check the Peason correlation coefficient:"
   ]
  },
  {
   "cell_type": "code",
   "execution_count": 187,
   "metadata": {},
   "outputs": [
    {
     "data": {
      "text/html": [
       "<div>\n",
       "<style scoped>\n",
       "    .dataframe tbody tr th:only-of-type {\n",
       "        vertical-align: middle;\n",
       "    }\n",
       "\n",
       "    .dataframe tbody tr th {\n",
       "        vertical-align: top;\n",
       "    }\n",
       "\n",
       "    .dataframe thead th {\n",
       "        text-align: right;\n",
       "    }\n",
       "</style>\n",
       "<table border=\"1\" class=\"dataframe\">\n",
       "  <thead>\n",
       "    <tr style=\"text-align: right;\">\n",
       "      <th></th>\n",
       "      <th>year</th>\n",
       "      <th>duration</th>\n",
       "      <th>avg_vote</th>\n",
       "      <th>budget</th>\n",
       "      <th>metascore</th>\n",
       "      <th>box_office</th>\n",
       "    </tr>\n",
       "  </thead>\n",
       "  <tbody>\n",
       "    <tr>\n",
       "      <th>year</th>\n",
       "      <td>1.000000</td>\n",
       "      <td>-0.051982</td>\n",
       "      <td>-0.143727</td>\n",
       "      <td>0.040693</td>\n",
       "      <td>-0.072699</td>\n",
       "      <td>0.113325</td>\n",
       "    </tr>\n",
       "    <tr>\n",
       "      <th>duration</th>\n",
       "      <td>-0.051982</td>\n",
       "      <td>1.000000</td>\n",
       "      <td>0.420261</td>\n",
       "      <td>0.361950</td>\n",
       "      <td>0.297710</td>\n",
       "      <td>0.269900</td>\n",
       "    </tr>\n",
       "    <tr>\n",
       "      <th>avg_vote</th>\n",
       "      <td>-0.143727</td>\n",
       "      <td>0.420261</td>\n",
       "      <td>1.000000</td>\n",
       "      <td>0.260110</td>\n",
       "      <td>0.727720</td>\n",
       "      <td>0.240850</td>\n",
       "    </tr>\n",
       "    <tr>\n",
       "      <th>budget</th>\n",
       "      <td>0.040693</td>\n",
       "      <td>0.361950</td>\n",
       "      <td>0.260110</td>\n",
       "      <td>1.000000</td>\n",
       "      <td>0.044075</td>\n",
       "      <td>0.757761</td>\n",
       "    </tr>\n",
       "    <tr>\n",
       "      <th>metascore</th>\n",
       "      <td>-0.072699</td>\n",
       "      <td>0.297710</td>\n",
       "      <td>0.727720</td>\n",
       "      <td>0.044075</td>\n",
       "      <td>1.000000</td>\n",
       "      <td>0.171702</td>\n",
       "    </tr>\n",
       "    <tr>\n",
       "      <th>box_office</th>\n",
       "      <td>0.113325</td>\n",
       "      <td>0.269900</td>\n",
       "      <td>0.240850</td>\n",
       "      <td>0.757761</td>\n",
       "      <td>0.171702</td>\n",
       "      <td>1.000000</td>\n",
       "    </tr>\n",
       "  </tbody>\n",
       "</table>\n",
       "</div>"
      ],
      "text/plain": [
       "                year  duration  avg_vote    budget  metascore  box_office\n",
       "year        1.000000 -0.051982 -0.143727  0.040693  -0.072699    0.113325\n",
       "duration   -0.051982  1.000000  0.420261  0.361950   0.297710    0.269900\n",
       "avg_vote   -0.143727  0.420261  1.000000  0.260110   0.727720    0.240850\n",
       "budget      0.040693  0.361950  0.260110  1.000000   0.044075    0.757761\n",
       "metascore  -0.072699  0.297710  0.727720  0.044075   1.000000    0.171702\n",
       "box_office  0.113325  0.269900  0.240850  0.757761   0.171702    1.000000"
      ]
     },
     "execution_count": 187,
     "metadata": {},
     "output_type": "execute_result"
    }
   ],
   "source": [
    "df.corr(method='pearson')"
   ]
  },
  {
   "cell_type": "markdown",
   "metadata": {},
   "source": [
    "The Pearson correlation coefficient between metascore and avg_vote is over 0.7 so this is high enough for us to just drop metascore. Even though there are differences between the way critics and regular people rate and enjoy films, the scores they give them are reasonably correlated. Some other interesting things to note are that metascore has almost no correlation with box_office - a film doesn't have to be good to make money. Also there is a strong correlation between budget and box_office - you have to spend money to make money."
   ]
  },
  {
   "cell_type": "code",
   "execution_count": 237,
   "metadata": {},
   "outputs": [
    {
     "data": {
      "text/html": [
       "<div>\n",
       "<style scoped>\n",
       "    .dataframe tbody tr th:only-of-type {\n",
       "        vertical-align: middle;\n",
       "    }\n",
       "\n",
       "    .dataframe tbody tr th {\n",
       "        vertical-align: top;\n",
       "    }\n",
       "\n",
       "    .dataframe thead th {\n",
       "        text-align: right;\n",
       "    }\n",
       "</style>\n",
       "<table border=\"1\" class=\"dataframe\">\n",
       "  <thead>\n",
       "    <tr style=\"text-align: right;\">\n",
       "      <th></th>\n",
       "      <th>year</th>\n",
       "      <th>genre</th>\n",
       "      <th>duration</th>\n",
       "      <th>director</th>\n",
       "      <th>score</th>\n",
       "      <th>budget</th>\n",
       "      <th>box_office</th>\n",
       "    </tr>\n",
       "  </thead>\n",
       "  <tbody>\n",
       "    <tr>\n",
       "      <th>4115</th>\n",
       "      <td>2001</td>\n",
       "      <td>Comedy, Fantasy, Romance</td>\n",
       "      <td>118</td>\n",
       "      <td>James Mangold</td>\n",
       "      <td>6.4</td>\n",
       "      <td>48000000.0</td>\n",
       "      <td>76019048.0</td>\n",
       "    </tr>\n",
       "    <tr>\n",
       "      <th>16550</th>\n",
       "      <td>1982</td>\n",
       "      <td>Comedy, Crime, Drama</td>\n",
       "      <td>100</td>\n",
       "      <td>William Byron Hillman</td>\n",
       "      <td>4.9</td>\n",
       "      <td>1000000.0</td>\n",
       "      <td>NaN</td>\n",
       "    </tr>\n",
       "    <tr>\n",
       "      <th>18767</th>\n",
       "      <td>1982</td>\n",
       "      <td>Horror, Thriller</td>\n",
       "      <td>96</td>\n",
       "      <td>Peter F. Buffa</td>\n",
       "      <td>4.6</td>\n",
       "      <td>1000000.0</td>\n",
       "      <td>NaN</td>\n",
       "    </tr>\n",
       "    <tr>\n",
       "      <th>19026</th>\n",
       "      <td>1981</td>\n",
       "      <td>Adventure, Comedy, Fantasy</td>\n",
       "      <td>116</td>\n",
       "      <td>Terry Gilliam</td>\n",
       "      <td>7.0</td>\n",
       "      <td>5000000.0</td>\n",
       "      <td>42368025.0</td>\n",
       "    </tr>\n",
       "    <tr>\n",
       "      <th>19036</th>\n",
       "      <td>1981</td>\n",
       "      <td>Drama</td>\n",
       "      <td>90</td>\n",
       "      <td>Frederick King Keller</td>\n",
       "      <td>6.5</td>\n",
       "      <td>60000.0</td>\n",
       "      <td>NaN</td>\n",
       "    </tr>\n",
       "    <tr>\n",
       "      <th>...</th>\n",
       "      <td>...</td>\n",
       "      <td>...</td>\n",
       "      <td>...</td>\n",
       "      <td>...</td>\n",
       "      <td>...</td>\n",
       "      <td>...</td>\n",
       "      <td>...</td>\n",
       "    </tr>\n",
       "    <tr>\n",
       "      <th>81234</th>\n",
       "      <td>2019</td>\n",
       "      <td>Drama, Horror, Romance</td>\n",
       "      <td>122</td>\n",
       "      <td>Sitisiri Mongkolsiri</td>\n",
       "      <td>6.6</td>\n",
       "      <td>1200000.0</td>\n",
       "      <td>171229.0</td>\n",
       "    </tr>\n",
       "    <tr>\n",
       "      <th>81239</th>\n",
       "      <td>2019</td>\n",
       "      <td>Action</td>\n",
       "      <td>92</td>\n",
       "      <td>Keoni Waxman</td>\n",
       "      <td>4.8</td>\n",
       "      <td>3000000.0</td>\n",
       "      <td>NaN</td>\n",
       "    </tr>\n",
       "    <tr>\n",
       "      <th>81249</th>\n",
       "      <td>2019</td>\n",
       "      <td>Romance</td>\n",
       "      <td>92</td>\n",
       "      <td>Don Tjernagel</td>\n",
       "      <td>7.0</td>\n",
       "      <td>7000.0</td>\n",
       "      <td>NaN</td>\n",
       "    </tr>\n",
       "    <tr>\n",
       "      <th>81254</th>\n",
       "      <td>2019</td>\n",
       "      <td>Horror</td>\n",
       "      <td>77</td>\n",
       "      <td>Robin Entreinger, Steve Noir</td>\n",
       "      <td>2.4</td>\n",
       "      <td>500000.0</td>\n",
       "      <td>NaN</td>\n",
       "    </tr>\n",
       "    <tr>\n",
       "      <th>81267</th>\n",
       "      <td>2019</td>\n",
       "      <td>Action, Thriller</td>\n",
       "      <td>145</td>\n",
       "      <td>Lokesh Kanagaraj</td>\n",
       "      <td>8.9</td>\n",
       "      <td>6000000.0</td>\n",
       "      <td>420126.0</td>\n",
       "    </tr>\n",
       "  </tbody>\n",
       "</table>\n",
       "<p>12993 rows × 7 columns</p>\n",
       "</div>"
      ],
      "text/plain": [
       "       year                       genre  duration  \\\n",
       "4115   2001    Comedy, Fantasy, Romance       118   \n",
       "16550  1982        Comedy, Crime, Drama       100   \n",
       "18767  1982            Horror, Thriller        96   \n",
       "19026  1981  Adventure, Comedy, Fantasy       116   \n",
       "19036  1981                       Drama        90   \n",
       "...     ...                         ...       ...   \n",
       "81234  2019      Drama, Horror, Romance       122   \n",
       "81239  2019                      Action        92   \n",
       "81249  2019                     Romance        92   \n",
       "81254  2019                      Horror        77   \n",
       "81267  2019            Action, Thriller       145   \n",
       "\n",
       "                           director  score      budget  box_office  \n",
       "4115                  James Mangold    6.4  48000000.0  76019048.0  \n",
       "16550         William Byron Hillman    4.9   1000000.0         NaN  \n",
       "18767                Peter F. Buffa    4.6   1000000.0         NaN  \n",
       "19026                 Terry Gilliam    7.0   5000000.0  42368025.0  \n",
       "19036         Frederick King Keller    6.5     60000.0         NaN  \n",
       "...                             ...    ...         ...         ...  \n",
       "81234          Sitisiri Mongkolsiri    6.6   1200000.0    171229.0  \n",
       "81239                  Keoni Waxman    4.8   3000000.0         NaN  \n",
       "81249                 Don Tjernagel    7.0      7000.0         NaN  \n",
       "81254  Robin Entreinger, Steve Noir    2.4    500000.0         NaN  \n",
       "81267              Lokesh Kanagaraj    8.9   6000000.0    420126.0  \n",
       "\n",
       "[12993 rows x 7 columns]"
      ]
     },
     "execution_count": 237,
     "metadata": {},
     "output_type": "execute_result"
    }
   ],
   "source": [
    "df = df.drop(['metascore'], axis='columns')\n",
    "df.rename(columns={'avg_vote':'score'})"
   ]
  },
  {
   "cell_type": "markdown",
   "metadata": {},
   "source": [
    "So now the only na values are in box_office. Lets drop these as box_office is the target:"
   ]
  },
  {
   "cell_type": "code",
   "execution_count": 238,
   "metadata": {},
   "outputs": [
    {
     "data": {
      "text/plain": [
       "(8399, 7)"
      ]
     },
     "execution_count": 238,
     "metadata": {},
     "output_type": "execute_result"
    }
   ],
   "source": [
    "df = df.dropna()\n",
    "df.shape"
   ]
  },
  {
   "cell_type": "markdown",
   "metadata": {},
   "source": [
    "So we are left with over 8000 rows with which to build our model."
   ]
  },
  {
   "cell_type": "markdown",
   "metadata": {},
   "source": [
    "## Adjust for inflation\n",
    "\n",
    "To compare movie budgets and box office numbers over the years we need to adjust for inflation. We will also drop films older than 1980 as the film industry has changed a lot over the years, and box office incomes from older films, even adjusted for inflation may not provide useful information. Also the vast majority of films are newer than this so not much is lost. I copied the information at https://www.usinflationcalculator.com/inflation/consumer-price-index-and-annual-percent-changes-from-1913-to-2008/ to a csv:"
   ]
  },
  {
   "cell_type": "code",
   "execution_count": 240,
   "metadata": {},
   "outputs": [
    {
     "data": {
      "text/html": [
       "<div>\n",
       "<style scoped>\n",
       "    .dataframe tbody tr th:only-of-type {\n",
       "        vertical-align: middle;\n",
       "    }\n",
       "\n",
       "    .dataframe tbody tr th {\n",
       "        vertical-align: top;\n",
       "    }\n",
       "\n",
       "    .dataframe thead th {\n",
       "        text-align: right;\n",
       "    }\n",
       "</style>\n",
       "<table border=\"1\" class=\"dataframe\">\n",
       "  <thead>\n",
       "    <tr style=\"text-align: right;\">\n",
       "      <th></th>\n",
       "      <th>Year</th>\n",
       "      <th>Jan</th>\n",
       "      <th>Feb</th>\n",
       "      <th>Mar</th>\n",
       "      <th>Apr</th>\n",
       "      <th>May</th>\n",
       "      <th>June</th>\n",
       "      <th>July</th>\n",
       "      <th>Aug</th>\n",
       "      <th>Sep</th>\n",
       "      <th>Oct</th>\n",
       "      <th>Nov</th>\n",
       "      <th>Dec</th>\n",
       "      <th>Avg</th>\n",
       "    </tr>\n",
       "  </thead>\n",
       "  <tbody>\n",
       "    <tr>\n",
       "      <th>0</th>\n",
       "      <td>1913</td>\n",
       "      <td>9.800</td>\n",
       "      <td>9.800</td>\n",
       "      <td>9.800</td>\n",
       "      <td>9.800</td>\n",
       "      <td>9.700</td>\n",
       "      <td>9.800</td>\n",
       "      <td>9.900</td>\n",
       "      <td>9.900</td>\n",
       "      <td>10.000</td>\n",
       "      <td>10.000</td>\n",
       "      <td>10.100</td>\n",
       "      <td>10.000</td>\n",
       "      <td>9.900</td>\n",
       "    </tr>\n",
       "    <tr>\n",
       "      <th>1</th>\n",
       "      <td>1914</td>\n",
       "      <td>10.000</td>\n",
       "      <td>9.900</td>\n",
       "      <td>9.900</td>\n",
       "      <td>9.800</td>\n",
       "      <td>9.900</td>\n",
       "      <td>9.900</td>\n",
       "      <td>10.000</td>\n",
       "      <td>10.200</td>\n",
       "      <td>10.200</td>\n",
       "      <td>10.100</td>\n",
       "      <td>10.200</td>\n",
       "      <td>10.100</td>\n",
       "      <td>10.000</td>\n",
       "    </tr>\n",
       "    <tr>\n",
       "      <th>2</th>\n",
       "      <td>1915</td>\n",
       "      <td>10.100</td>\n",
       "      <td>10.000</td>\n",
       "      <td>9.900</td>\n",
       "      <td>10.000</td>\n",
       "      <td>10.100</td>\n",
       "      <td>10.100</td>\n",
       "      <td>10.100</td>\n",
       "      <td>10.100</td>\n",
       "      <td>10.100</td>\n",
       "      <td>10.200</td>\n",
       "      <td>10.300</td>\n",
       "      <td>10.300</td>\n",
       "      <td>10.100</td>\n",
       "    </tr>\n",
       "    <tr>\n",
       "      <th>3</th>\n",
       "      <td>1916</td>\n",
       "      <td>10.400</td>\n",
       "      <td>10.400</td>\n",
       "      <td>10.500</td>\n",
       "      <td>10.600</td>\n",
       "      <td>10.700</td>\n",
       "      <td>10.800</td>\n",
       "      <td>10.800</td>\n",
       "      <td>10.900</td>\n",
       "      <td>11.100</td>\n",
       "      <td>11.300</td>\n",
       "      <td>11.500</td>\n",
       "      <td>11.600</td>\n",
       "      <td>10.900</td>\n",
       "    </tr>\n",
       "    <tr>\n",
       "      <th>4</th>\n",
       "      <td>1917</td>\n",
       "      <td>11.700</td>\n",
       "      <td>12.000</td>\n",
       "      <td>12.000</td>\n",
       "      <td>12.600</td>\n",
       "      <td>12.800</td>\n",
       "      <td>13.000</td>\n",
       "      <td>12.800</td>\n",
       "      <td>13.000</td>\n",
       "      <td>13.300</td>\n",
       "      <td>13.500</td>\n",
       "      <td>13.500</td>\n",
       "      <td>13.700</td>\n",
       "      <td>12.800</td>\n",
       "    </tr>\n",
       "    <tr>\n",
       "      <th>...</th>\n",
       "      <td>...</td>\n",
       "      <td>...</td>\n",
       "      <td>...</td>\n",
       "      <td>...</td>\n",
       "      <td>...</td>\n",
       "      <td>...</td>\n",
       "      <td>...</td>\n",
       "      <td>...</td>\n",
       "      <td>...</td>\n",
       "      <td>...</td>\n",
       "      <td>...</td>\n",
       "      <td>...</td>\n",
       "      <td>...</td>\n",
       "      <td>...</td>\n",
       "    </tr>\n",
       "    <tr>\n",
       "      <th>102</th>\n",
       "      <td>2015</td>\n",
       "      <td>233.707</td>\n",
       "      <td>234.722</td>\n",
       "      <td>236.119</td>\n",
       "      <td>236.599</td>\n",
       "      <td>237.805</td>\n",
       "      <td>238.638</td>\n",
       "      <td>238.654</td>\n",
       "      <td>238.316</td>\n",
       "      <td>237.945</td>\n",
       "      <td>237.838</td>\n",
       "      <td>237.336</td>\n",
       "      <td>236.525</td>\n",
       "      <td>237.017</td>\n",
       "    </tr>\n",
       "    <tr>\n",
       "      <th>103</th>\n",
       "      <td>2016</td>\n",
       "      <td>236.916</td>\n",
       "      <td>237.111</td>\n",
       "      <td>238.132</td>\n",
       "      <td>239.261</td>\n",
       "      <td>240.236</td>\n",
       "      <td>241.038</td>\n",
       "      <td>240.647</td>\n",
       "      <td>240.853</td>\n",
       "      <td>241.428</td>\n",
       "      <td>241.729</td>\n",
       "      <td>241.353</td>\n",
       "      <td>241.432</td>\n",
       "      <td>240.007</td>\n",
       "    </tr>\n",
       "    <tr>\n",
       "      <th>104</th>\n",
       "      <td>2017</td>\n",
       "      <td>242.839</td>\n",
       "      <td>243.603</td>\n",
       "      <td>243.801</td>\n",
       "      <td>244.524</td>\n",
       "      <td>244.733</td>\n",
       "      <td>244.955</td>\n",
       "      <td>244.786</td>\n",
       "      <td>245.519</td>\n",
       "      <td>246.819</td>\n",
       "      <td>246.663</td>\n",
       "      <td>246.669</td>\n",
       "      <td>246.524</td>\n",
       "      <td>245.120</td>\n",
       "    </tr>\n",
       "    <tr>\n",
       "      <th>105</th>\n",
       "      <td>2018</td>\n",
       "      <td>247.867</td>\n",
       "      <td>248.991</td>\n",
       "      <td>249.554</td>\n",
       "      <td>250.546</td>\n",
       "      <td>251.588</td>\n",
       "      <td>251.989</td>\n",
       "      <td>252.006</td>\n",
       "      <td>252.146</td>\n",
       "      <td>252.439</td>\n",
       "      <td>252.885</td>\n",
       "      <td>252.038</td>\n",
       "      <td>251.233</td>\n",
       "      <td>251.107</td>\n",
       "    </tr>\n",
       "    <tr>\n",
       "      <th>106</th>\n",
       "      <td>2019</td>\n",
       "      <td>251.712</td>\n",
       "      <td>252.776</td>\n",
       "      <td>254.202</td>\n",
       "      <td>255.548</td>\n",
       "      <td>256.092</td>\n",
       "      <td>256.143</td>\n",
       "      <td>256.571</td>\n",
       "      <td>256.558</td>\n",
       "      <td>256.759</td>\n",
       "      <td>257.346</td>\n",
       "      <td>257.208</td>\n",
       "      <td>256.974</td>\n",
       "      <td>255.657</td>\n",
       "    </tr>\n",
       "  </tbody>\n",
       "</table>\n",
       "<p>107 rows × 14 columns</p>\n",
       "</div>"
      ],
      "text/plain": [
       "     Year      Jan      Feb      Mar      Apr      May     June     July  \\\n",
       "0    1913    9.800    9.800    9.800    9.800    9.700    9.800    9.900   \n",
       "1    1914   10.000    9.900    9.900    9.800    9.900    9.900   10.000   \n",
       "2    1915   10.100   10.000    9.900   10.000   10.100   10.100   10.100   \n",
       "3    1916   10.400   10.400   10.500   10.600   10.700   10.800   10.800   \n",
       "4    1917   11.700   12.000   12.000   12.600   12.800   13.000   12.800   \n",
       "..    ...      ...      ...      ...      ...      ...      ...      ...   \n",
       "102  2015  233.707  234.722  236.119  236.599  237.805  238.638  238.654   \n",
       "103  2016  236.916  237.111  238.132  239.261  240.236  241.038  240.647   \n",
       "104  2017  242.839  243.603  243.801  244.524  244.733  244.955  244.786   \n",
       "105  2018  247.867  248.991  249.554  250.546  251.588  251.989  252.006   \n",
       "106  2019  251.712  252.776  254.202  255.548  256.092  256.143  256.571   \n",
       "\n",
       "         Aug      Sep      Oct      Nov      Dec      Avg  \n",
       "0      9.900   10.000   10.000   10.100   10.000    9.900  \n",
       "1     10.200   10.200   10.100   10.200   10.100   10.000  \n",
       "2     10.100   10.100   10.200   10.300   10.300   10.100  \n",
       "3     10.900   11.100   11.300   11.500   11.600   10.900  \n",
       "4     13.000   13.300   13.500   13.500   13.700   12.800  \n",
       "..       ...      ...      ...      ...      ...      ...  \n",
       "102  238.316  237.945  237.838  237.336  236.525  237.017  \n",
       "103  240.853  241.428  241.729  241.353  241.432  240.007  \n",
       "104  245.519  246.819  246.663  246.669  246.524  245.120  \n",
       "105  252.146  252.439  252.885  252.038  251.233  251.107  \n",
       "106  256.558  256.759  257.346  257.208  256.974  255.657  \n",
       "\n",
       "[107 rows x 14 columns]"
      ]
     },
     "execution_count": 240,
     "metadata": {},
     "output_type": "execute_result"
    }
   ],
   "source": [
    "cpi = pd.read_csv('./cpi.csv')\n",
    "cpi"
   ]
  },
  {
   "cell_type": "markdown",
   "metadata": {},
   "source": [
    "We just need rates since 1980 and we only care about the average for the whole year."
   ]
  },
  {
   "cell_type": "code",
   "execution_count": 241,
   "metadata": {},
   "outputs": [],
   "source": [
    "cols = cpi.columns[cpi.columns.isin(['Year', 'Avg'])]\n",
    "cpi = cpi[cols]\n",
    "cpi = cpi[cpi['Year'] >= 1980]"
   ]
  },
  {
   "cell_type": "markdown",
   "metadata": {},
   "source": [
    "We want a factor for each year that we can use to calculate the adjusted amounts from. To calculate this we can use: \n",
    "\n",
    "$$\n",
    "x_{2020} = x_{old} \\times \\frac{CPI_{2020}}{CPI_{old}}\n",
    "$$\n"
   ]
  },
  {
   "cell_type": "code",
   "execution_count": 242,
   "metadata": {},
   "outputs": [],
   "source": [
    "cpi_2020 = 260.2\n",
    "factors = [np.round(cpi_2020/item, 3) for i, item in enumerate(cpi.Avg)]\n",
    "cpi['factors'] = factors"
   ]
  },
  {
   "cell_type": "markdown",
   "metadata": {},
   "source": [
    "Now we need to apply these factors to our monetary values in the data."
   ]
  },
  {
   "cell_type": "code",
   "execution_count": 243,
   "metadata": {},
   "outputs": [],
   "source": [
    "movie_factors = np.zeros(len(df))\n",
    "movie_year = df.year\n",
    "\n",
    "for i, valuei in enumerate(movie_year):\n",
    "    for j, valuej in cpi.Year.items():\n",
    "        if valuei == valuej:\n",
    "            movie_factors[i] = cpi.factors[j]\n",
    "            \n",
    "new_budget = df.budget*movie_factors\n",
    "df['new_budget'] = new_budget\n",
    "new_box_office = df.box_office*movie_factors\n",
    "df['new_box_office'] = new_box_office"
   ]
  },
  {
   "cell_type": "markdown",
   "metadata": {},
   "source": [
    "Lets compare adjusted box office returns to original box office returns:"
   ]
  },
  {
   "cell_type": "code",
   "execution_count": 244,
   "metadata": {},
   "outputs": [
    {
     "data": {
      "text/plain": [
       "Text(0, 0.5, 'Box office returns')"
      ]
     },
     "execution_count": 244,
     "metadata": {},
     "output_type": "execute_result"
    },
    {
     "data": {
      "image/png": "[encoded data removed]",
      "text/plain": [
       "<Figure size 1008x432 with 1 Axes>"
      ]
     },
     "metadata": {
      "needs_background": "light"
     },
     "output_type": "display_data"
    }
   ],
   "source": [
    "fig, ax = plt.subplots(figsize=(14,6))\n",
    "ax.set_ylim(0, 2.5e8)\n",
    "sns.lineplot(x=df.year, y=df.box_office, data=df, label=\"original box office\")\n",
    "sns.lineplot(x=df.year, y=df.new_box_office, data=df, label=\"adjusted box office\")\n",
    "ax.set_ylabel('Box office returns')"
   ]
  },
  {
   "cell_type": "markdown",
   "metadata": {},
   "source": [
    "We can see that when adjusted for inflation, box office returns remained steady during the 80s and 90s, then dipped during the financial crash, and then have been rising ever since, with that rise accelerating in the last few years. Obviously this will have dropped in 2020 but our model should ignore the effects of the pandemic. Lets do the same for movie budgets:"
   ]
  },
  {
   "cell_type": "code",
   "execution_count": 218,
   "metadata": {},
   "outputs": [
    {
     "data": {
      "text/plain": [
       "Text(0, 0.5, 'Movie Budget')"
      ]
     },
     "execution_count": 218,
     "metadata": {},
     "output_type": "execute_result"
    },
    {
     "data": {
      "image/png": "[encoded data removed]",
      "text/plain": [
       "<Figure size 1008x432 with 1 Axes>"
      ]
     },
     "metadata": {
      "needs_background": "light"
     },
     "output_type": "display_data"
    }
   ],
   "source": [
    "fig, ax = plt.subplots(figsize=(14,6))\n",
    "ax.set_ylim(0, 7e7)\n",
    "sns.lineplot(x=df.year, y=df.budget, data=df, label=\"original budget\")\n",
    "sns.lineplot(x=df.year, y=df.new_budget, data=df, label=\"adjusted budget\")\n",
    "ax.set_ylabel('Movie Budget')"
   ]
  },
  {
   "cell_type": "markdown",
   "metadata": {},
   "source": [
    "Now we can drop year as we have no more use for it:"
   ]
  },
  {
   "cell_type": "code",
   "execution_count": 245,
   "metadata": {},
   "outputs": [
    {
     "data": {
      "text/html": [
       "<div>\n",
       "<style scoped>\n",
       "    .dataframe tbody tr th:only-of-type {\n",
       "        vertical-align: middle;\n",
       "    }\n",
       "\n",
       "    .dataframe tbody tr th {\n",
       "        vertical-align: top;\n",
       "    }\n",
       "\n",
       "    .dataframe thead th {\n",
       "        text-align: right;\n",
       "    }\n",
       "</style>\n",
       "<table border=\"1\" class=\"dataframe\">\n",
       "  <thead>\n",
       "    <tr style=\"text-align: right;\">\n",
       "      <th></th>\n",
       "      <th>genre</th>\n",
       "      <th>duration</th>\n",
       "      <th>director</th>\n",
       "      <th>avg_vote</th>\n",
       "      <th>budget</th>\n",
       "      <th>box_office</th>\n",
       "    </tr>\n",
       "  </thead>\n",
       "  <tbody>\n",
       "    <tr>\n",
       "      <th>4115</th>\n",
       "      <td>Comedy, Fantasy, Romance</td>\n",
       "      <td>118</td>\n",
       "      <td>James Mangold</td>\n",
       "      <td>6.4</td>\n",
       "      <td>70512000.0</td>\n",
       "      <td>1.116720e+08</td>\n",
       "    </tr>\n",
       "    <tr>\n",
       "      <th>19026</th>\n",
       "      <td>Adventure, Comedy, Fantasy</td>\n",
       "      <td>116</td>\n",
       "      <td>Terry Gilliam</td>\n",
       "      <td>7.0</td>\n",
       "      <td>14310000.0</td>\n",
       "      <td>1.212573e+08</td>\n",
       "    </tr>\n",
       "    <tr>\n",
       "      <th>19090</th>\n",
       "      <td>Drama, Romance, Thriller</td>\n",
       "      <td>116</td>\n",
       "      <td>Sydney Pollack</td>\n",
       "      <td>6.9</td>\n",
       "      <td>34344000.0</td>\n",
       "      <td>1.165319e+08</td>\n",
       "    </tr>\n",
       "    <tr>\n",
       "      <th>19096</th>\n",
       "      <td>Comedy, Drama, Romance</td>\n",
       "      <td>87</td>\n",
       "      <td>Jean-Claude Tramont</td>\n",
       "      <td>5.6</td>\n",
       "      <td>40068000.0</td>\n",
       "      <td>1.274819e+07</td>\n",
       "    </tr>\n",
       "    <tr>\n",
       "      <th>19099</th>\n",
       "      <td>Comedy, Horror</td>\n",
       "      <td>97</td>\n",
       "      <td>John Landis</td>\n",
       "      <td>7.5</td>\n",
       "      <td>28620000.0</td>\n",
       "      <td>8.747787e+07</td>\n",
       "    </tr>\n",
       "    <tr>\n",
       "      <th>...</th>\n",
       "      <td>...</td>\n",
       "      <td>...</td>\n",
       "      <td>...</td>\n",
       "      <td>...</td>\n",
       "      <td>...</td>\n",
       "      <td>...</td>\n",
       "    </tr>\n",
       "    <tr>\n",
       "      <th>80946</th>\n",
       "      <td>Comedy, Family</td>\n",
       "      <td>96</td>\n",
       "      <td>Andy Fickman</td>\n",
       "      <td>4.5</td>\n",
       "      <td>30438200.0</td>\n",
       "      <td>2.218094e+07</td>\n",
       "    </tr>\n",
       "    <tr>\n",
       "      <th>80974</th>\n",
       "      <td>Comedy, Drama, Family</td>\n",
       "      <td>121</td>\n",
       "      <td>Pankaj Batra</td>\n",
       "      <td>6.0</td>\n",
       "      <td>1003748.0</td>\n",
       "      <td>3.738198e+04</td>\n",
       "    </tr>\n",
       "    <tr>\n",
       "      <th>81059</th>\n",
       "      <td>Comedy</td>\n",
       "      <td>84</td>\n",
       "      <td>Jon Lucas, Scott Moore</td>\n",
       "      <td>6.6</td>\n",
       "      <td>5090000.0</td>\n",
       "      <td>7.388561e+06</td>\n",
       "    </tr>\n",
       "    <tr>\n",
       "      <th>81234</th>\n",
       "      <td>Drama, Horror, Romance</td>\n",
       "      <td>122</td>\n",
       "      <td>Sitisiri Mongkolsiri</td>\n",
       "      <td>6.6</td>\n",
       "      <td>1221600.0</td>\n",
       "      <td>1.743111e+05</td>\n",
       "    </tr>\n",
       "    <tr>\n",
       "      <th>81267</th>\n",
       "      <td>Action, Thriller</td>\n",
       "      <td>145</td>\n",
       "      <td>Lokesh Kanagaraj</td>\n",
       "      <td>8.9</td>\n",
       "      <td>6108000.0</td>\n",
       "      <td>4.276883e+05</td>\n",
       "    </tr>\n",
       "  </tbody>\n",
       "</table>\n",
       "<p>8399 rows × 6 columns</p>\n",
       "</div>"
      ],
      "text/plain": [
       "                            genre  duration                director  avg_vote  \\\n",
       "4115     Comedy, Fantasy, Romance       118           James Mangold       6.4   \n",
       "19026  Adventure, Comedy, Fantasy       116           Terry Gilliam       7.0   \n",
       "19090    Drama, Romance, Thriller       116          Sydney Pollack       6.9   \n",
       "19096      Comedy, Drama, Romance        87     Jean-Claude Tramont       5.6   \n",
       "19099              Comedy, Horror        97             John Landis       7.5   \n",
       "...                           ...       ...                     ...       ...   \n",
       "80946              Comedy, Family        96            Andy Fickman       4.5   \n",
       "80974       Comedy, Drama, Family       121            Pankaj Batra       6.0   \n",
       "81059                      Comedy        84  Jon Lucas, Scott Moore       6.6   \n",
       "81234      Drama, Horror, Romance       122    Sitisiri Mongkolsiri       6.6   \n",
       "81267            Action, Thriller       145        Lokesh Kanagaraj       8.9   \n",
       "\n",
       "           budget    box_office  \n",
       "4115   70512000.0  1.116720e+08  \n",
       "19026  14310000.0  1.212573e+08  \n",
       "19090  34344000.0  1.165319e+08  \n",
       "19096  40068000.0  1.274819e+07  \n",
       "19099  28620000.0  8.747787e+07  \n",
       "...           ...           ...  \n",
       "80946  30438200.0  2.218094e+07  \n",
       "80974   1003748.0  3.738198e+04  \n",
       "81059   5090000.0  7.388561e+06  \n",
       "81234   1221600.0  1.743111e+05  \n",
       "81267   6108000.0  4.276883e+05  \n",
       "\n",
       "[8399 rows x 6 columns]"
      ]
     },
     "execution_count": 245,
     "metadata": {},
     "output_type": "execute_result"
    }
   ],
   "source": [
    "df = df.drop(['year','budget','box_office'], axis='columns')\n",
    "df.rename(columns={'new_budget':'budget','new_box_office':'box_office'})"
   ]
  },
  {
   "cell_type": "code",
   "execution_count": 246,
   "metadata": {},
   "outputs": [],
   "source": [
    "df2 = df"
   ]
  },
  {
   "cell_type": "markdown",
   "metadata": {},
   "source": [
    "## Genre\n",
    "\n",
    "Lets investigate how the different genres perform. First we need to clean the genre data so that it can be used. Right now each film has one item in its genre value, which is a string with genres separated by commas. We can start by changing these to lists."
   ]
  },
  {
   "cell_type": "code",
   "execution_count": 250,
   "metadata": {},
   "outputs": [],
   "source": [
    "df2.genre = df2.genre.apply(lambda x: x.split(', '))"
   ]
  },
  {
   "cell_type": "markdown",
   "metadata": {},
   "source": [
    "And then encoding the genre data so that the model can use it:"
   ]
  },
  {
   "cell_type": "code",
   "execution_count": null,
   "metadata": {},
   "outputs": [],
   "source": [
    "df2 = df2.drop('genre', 1).join(df2.genre.str.join('|').str.get_dummies())"
   ]
  },
  {
   "cell_type": "markdown",
   "metadata": {},
   "source": [
    "With this method each film can have more than one genre attached to it."
   ]
  },
  {
   "cell_type": "markdown",
   "metadata": {},
   "source": [
    "Let get a list of all the genres:"
   ]
  },
  {
   "cell_type": "code",
   "execution_count": 260,
   "metadata": {},
   "outputs": [],
   "source": [
    "all_genres = []\n",
    "for i in df.genre:\n",
    "    for j in i:\n",
    "        all_genres.append(j)\n",
    "genres = np.array(all_genres)\n",
    "unique_genres = np.unique(genres)"
   ]
  },
  {
   "cell_type": "code",
   "execution_count": 272,
   "metadata": {},
   "outputs": [
    {
     "data": {
      "text/plain": [
       "Text(0.5, 0, 'mean box office returns')"
      ]
     },
     "execution_count": 272,
     "metadata": {},
     "output_type": "execute_result"
    },
    {
     "data": {
      "image/png": "[encoded data removed]",
      "text/plain": [
       "<Figure size 864x576 with 1 Axes>"
      ]
     },
     "metadata": {
      "needs_background": "light"
     },
     "output_type": "display_data"
    }
   ],
   "source": [
    "genre_boxoffice = []\n",
    "for i in unique_genres:\n",
    "    genre_boxoffice.append(np.mean(df2[df2[i] == 1].new_box_office))\n",
    "\n",
    "genre_boxoffice = np.array(genre_boxoffice)\n",
    "\n",
    "data = {'genre':  unique_genres,\n",
    "        'mean': genre_boxoffice}\n",
    "\n",
    "genre_boxoffice_data = pd.DataFrame(data, columns=['genre','mean'])\n",
    "\n",
    "fig, ax = plt.subplots(figsize=(12,8), nrows=1, ncols=1)\n",
    "sns.barplot(x=\"mean\",\n",
    "            y=\"genre\",\n",
    "            data=genre_boxoffice_data,\n",
    "            order=genre_boxoffice_data.sort_values('mean', ascending = False).genre\n",
    "            )\n",
    "plt.ylabel('')\n",
    "plt.xlabel('mean box office returns')"
   ]
  },
  {
   "cell_type": "markdown",
   "metadata": {},
   "source": [
    "The amount of money you can expect to make depends a lot on the genre you are working in. An action comedy is going to make more money than a western horror."
   ]
  },
  {
   "cell_type": "code",
   "execution_count": null,
   "metadata": {},
   "outputs": [],
   "source": []
  }
 ],
 "metadata": {
  "kernelspec": {
   "display_name": "Python 3",
   "language": "python",
   "name": "python3"
  },
  "language_info": {
   "codemirror_mode": {
    "name": "ipython",
    "version": 3
   },
   "file_extension": ".py",
   "mimetype": "text/x-python",
   "name": "python",
   "nbconvert_exporter": "python",
   "pygments_lexer": "ipython3",
   "version": "3.7.6"
  }
 },
 "nbformat": 4,
 "nbformat_minor": 4
}
